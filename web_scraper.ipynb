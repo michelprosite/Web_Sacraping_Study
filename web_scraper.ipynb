{
 "cells": [
  {
   "attachments": {},
   "cell_type": "markdown",
   "metadata": {},
   "source": [
    "# Michel Souza Santana\n",
    "> 07/05/2023\n",
    "\n",
    "#### Web Scraper com Python\n"
   ]
  },
  {
   "attachments": {},
   "cell_type": "markdown",
   "metadata": {},
   "source": [
    "**********"
   ]
  },
  {
   "attachments": {},
   "cell_type": "markdown",
   "metadata": {},
   "source": [
    "## O primeiro Scraper"
   ]
  },
  {
   "attachments": {},
   "cell_type": "markdown",
   "metadata": {},
   "source": [
    "OBS: Todo o processo de prática aqui ilustrado, tanto quando os projetos criádos serão executados em sistema linux. Caso possua um sistema diferente procure meios para adaptar os comando e instalações das ferramentas a seu critério."
   ]
  },
  {
   "attachments": {},
   "cell_type": "markdown",
   "metadata": {},
   "source": [
    "* Para o uso da técnica de screper precisaremos conhecer algumas bibliotecas as quais serão apresentadas às medida em que for avançando a complexidade do projeto.\n",
    "* Nesse momento estarei fazendo um primeiro Scraper para introdução ao poder e performace dessa técnica."
   ]
  },
  {
   "cell_type": "code",
   "execution_count": 2,
   "metadata": {},
   "outputs": [
    {
     "name": "stdout",
     "output_type": "stream",
     "text": [
      "b'<html>\\n<head>\\n<title>A Useful Page</title>\\n</head>\\n<body>\\n<h1>An Interesting Title</h1>\\n<div>\\nLorem ipsum dolor sit amet, consectetur adipisicing elit, sed do eiusmod tempor incididunt ut labore et dolore magna aliqua. Ut enim ad minim veniam, quis nostrud exercitation ullamco laboris nisi ut aliquip ex ea commodo consequat. Duis aute irure dolor in reprehenderit in voluptate velit esse cillum dolore eu fugiat nulla pariatur. Excepteur sint occaecat cupidatat non proident, sunt in culpa qui officia deserunt mollit anim id est laborum.\\n</div>\\n</body>\\n</html>\\n'\n"
     ]
    }
   ],
   "source": [
    "# importando a biblioteca 'urlope'\n",
    "from urllib.request import urlopen\n",
    "\n",
    "html = urlopen('http://pythonscraping.com/pages/page1.html')\n",
    "print(html.read())"
   ]
  },
  {
   "attachments": {},
   "cell_type": "markdown",
   "metadata": {},
   "source": [
    "### BeautifulSoup\n",
    "\n",
    "* Como podemos ver, foi realizada com sucesso uma requisição e capturada o html da págia alvo com todas as informações dispostas. Todavia percebe-se que o conteúdo retornado não é agradável aos olhos.\n",
    "\n",
    "* Para tratar essa situação vamos fazer uso da biblioteca BeautifuSoup pa tentar dar sentido ao que não faz sentido.\n",
    "\n",
    "* A biblioteca BeautifuSoup ajuda a formatar e organizar a web confusa, fazendo correções em um código html mal formatado e apresentando objetos Python que podem ser facilmente percorridos e alterados."
   ]
  },
  {
   "attachments": {},
   "cell_type": "markdown",
   "metadata": {},
   "source": [
    "> A ferramenta, normalmente não é nativa dos sistemas e por isso se faz necessária sua instalação. Para tal executamos o seguinte comando:\n",
    "\n",
    "!pip install bs4\n",
    "\n",
    "> O retorno do comando deve ser algo similar a isso:\n",
    "\n",
    "Defaulting to user installation because normal site-packages is not writeable\n",
    "Collecting bs4\n",
    "  Downloading bs4-0.0.1.tar.gz (1.1 kB)\n",
    "  Preparing metadata (setup.py) ... Collecting beautifulsoup4\n",
    "  Downloading beautifulsoup4-4.12.2-py3-none-any.whl (142 kB)\n",
    "     ━━━━━━━━━━━━━━━━━━━━━━━━━━━━━━━━━━━━━━━ 143.0/143.0 KB 1.6 MB/s eta 0:00:00a 0:00:01\n",
    "Collecting soupsieve>1.2\n",
    "  Downloading soupsieve-2.4.1-py3-none-any.whl (36 kB)\n",
    "Building wheels for collected packages: bs4\n",
    "  Building wheel for bs4 (setup.py) ...   Created wheel for bs4: filename=bs4-0.0.1-py3-none-any.whl size=1272 sha256=f7abea3c9eb560ec549d38455b1ed321d194d1d8d9e781c3bb2fb699035f5f8b\n",
    "  Stored in directory: /home/michel/.cache/pip/wheels/25/42/45/b773edc52acb16cd2db4cf1a0b47117e2f69bb4eb300ed0e70\n",
    "Successfully built bs4\n",
    "Installing collected packages: soupsieve, beautifulsoup4, bs4\n",
    "Successfully installed beautifulsoup4-4.12.2 bs4-0.0.1 soupsieve-2.4.1"
   ]
  },
  {
   "attachments": {},
   "cell_type": "markdown",
   "metadata": {},
   "source": [
    "Uma boa prática quando se está trabalhando com programação, é fazer uso de um ambiente virtual para assegura a integridade da máquina. Aqui estarei criando um ambiente \"venv\", caso conheça outras, fique a vontade para fazer uso dela.\n",
    "\n",
    "* no terminal, digite:\n",
    "$python3 -m venv venv\n",
    "\n",
    "* onde esta 3 é a versão atual do python que estou usando, venv no final é o nome que dei para o ambiente a ser criado, pode colocar outro nome se quiser.\n",
    "\n",
    "A depender das configurações do seu sistema talvez seja necessário instalar o python venv. Para isso basta executar o comando:\n",
    "\n",
    "$ sudo apt install python3.10-venv\n",
    "\n",
    "Agora repeta a ação anterior.\n",
    "\n",
    "Ativando o ambiente\n",
    "\n",
    "$ source venv/bin/activate\n",
    "\n"
   ]
  },
  {
   "cell_type": "code",
   "execution_count": 1,
   "metadata": {},
   "outputs": [
    {
     "name": "stdout",
     "output_type": "stream",
     "text": [
      "<html>\n",
      "<head>\n",
      "<title>A Useful Page</title>\n",
      "</head>\n",
      "<body>\n",
      "<h1>An Interesting Title</h1>\n",
      "<div>\n",
      "Lorem ipsum dolor sit amet, consectetur adipisicing elit, sed do eiusmod tempor incididunt ut labore et dolore magna aliqua. Ut enim ad minim veniam, quis nostrud exercitation ullamco laboris nisi ut aliquip ex ea commodo consequat. Duis aute irure dolor in reprehenderit in voluptate velit esse cillum dolore eu fugiat nulla pariatur. Excepteur sint occaecat cupidatat non proident, sunt in culpa qui officia deserunt mollit anim id est laborum.\n",
      "</div>\n",
      "</body>\n",
      "</html>\n",
      "\n"
     ]
    }
   ],
   "source": [
    "# importando a biblioteca 'urlope'\n",
    "from urllib.request import urlopen\n",
    "from bs4 import BeautifulSoup\n",
    "\n",
    "html = urlopen('http://pythonscraping.com/pages/page1.html')\n",
    "\n",
    "bs = BeautifulSoup(html.read(), 'html.parser')\n",
    "\n",
    "print(bs)\n",
    "\n"
   ]
  }
 ],
 "metadata": {
  "kernelspec": {
   "display_name": "Python 3",
   "language": "python",
   "name": "python3"
  },
  "language_info": {
   "codemirror_mode": {
    "name": "ipython",
    "version": 3
   },
   "file_extension": ".py",
   "mimetype": "text/x-python",
   "name": "python",
   "nbconvert_exporter": "python",
   "pygments_lexer": "ipython3",
   "version": "3.10.6"
  },
  "orig_nbformat": 4
 },
 "nbformat": 4,
 "nbformat_minor": 2
}
